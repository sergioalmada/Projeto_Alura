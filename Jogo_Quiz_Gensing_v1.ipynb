{
  "nbformat": 4,
  "nbformat_minor": 0,
  "metadata": {
    "colab": {
      "provenance": [],
      "authorship_tag": "ABX9TyNOybE/SDZ7lhChGw8mLKNM",
      "include_colab_link": true
    },
    "kernelspec": {
      "name": "python3",
      "display_name": "Python 3"
    },
    "language_info": {
      "name": "python"
    },
    "widgets": {
      "application/vnd.jupyter.widget-state+json": {
        "26f63ae6241449a29798bab9c36b1f82": {
          "model_module": "@jupyter-widgets/controls",
          "model_name": "HBoxModel",
          "model_module_version": "1.5.0",
          "state": {
            "_dom_classes": [],
            "_model_module": "@jupyter-widgets/controls",
            "_model_module_version": "1.5.0",
            "_model_name": "HBoxModel",
            "_view_count": null,
            "_view_module": "@jupyter-widgets/controls",
            "_view_module_version": "1.5.0",
            "_view_name": "HBoxView",
            "box_style": "",
            "children": [
              "IPY_MODEL_4031b5e7a1b74fec9214aadc80ed6d84",
              "IPY_MODEL_1eac50c93b85419092b10351d71e6fde",
              "IPY_MODEL_c58baec14bba4e06804ac97dd0fc7200"
            ],
            "layout": "IPY_MODEL_5543be1fb57049bdaaaa37e8bb7d357f"
          }
        },
        "4031b5e7a1b74fec9214aadc80ed6d84": {
          "model_module": "@jupyter-widgets/controls",
          "model_name": "ButtonModel",
          "model_module_version": "1.5.0",
          "state": {
            "_dom_classes": [],
            "_model_module": "@jupyter-widgets/controls",
            "_model_module_version": "1.5.0",
            "_model_name": "ButtonModel",
            "_view_count": null,
            "_view_module": "@jupyter-widgets/controls",
            "_view_module_version": "1.5.0",
            "_view_name": "ButtonView",
            "button_style": "",
            "description": "Fácil",
            "disabled": false,
            "icon": "",
            "layout": "IPY_MODEL_5c46718ea1e442099aac478ed42224ff",
            "style": "IPY_MODEL_4b35ead6823c435bac4abbb80d63be5e",
            "tooltip": ""
          }
        },
        "1eac50c93b85419092b10351d71e6fde": {
          "model_module": "@jupyter-widgets/controls",
          "model_name": "ButtonModel",
          "model_module_version": "1.5.0",
          "state": {
            "_dom_classes": [],
            "_model_module": "@jupyter-widgets/controls",
            "_model_module_version": "1.5.0",
            "_model_name": "ButtonModel",
            "_view_count": null,
            "_view_module": "@jupyter-widgets/controls",
            "_view_module_version": "1.5.0",
            "_view_name": "ButtonView",
            "button_style": "",
            "description": "Médio",
            "disabled": false,
            "icon": "",
            "layout": "IPY_MODEL_ed40bdcd61e84278acf3dfd374cc32c7",
            "style": "IPY_MODEL_c1af092fe2c0489a88c0c378d8818e9d",
            "tooltip": ""
          }
        },
        "c58baec14bba4e06804ac97dd0fc7200": {
          "model_module": "@jupyter-widgets/controls",
          "model_name": "ButtonModel",
          "model_module_version": "1.5.0",
          "state": {
            "_dom_classes": [],
            "_model_module": "@jupyter-widgets/controls",
            "_model_module_version": "1.5.0",
            "_model_name": "ButtonModel",
            "_view_count": null,
            "_view_module": "@jupyter-widgets/controls",
            "_view_module_version": "1.5.0",
            "_view_name": "ButtonView",
            "button_style": "",
            "description": "Difícil",
            "disabled": false,
            "icon": "",
            "layout": "IPY_MODEL_818ceaff295b48418ba06e74ed940ada",
            "style": "IPY_MODEL_9776577fc5434228895acc3b9f774a7a",
            "tooltip": ""
          }
        },
        "5543be1fb57049bdaaaa37e8bb7d357f": {
          "model_module": "@jupyter-widgets/base",
          "model_name": "LayoutModel",
          "model_module_version": "1.2.0",
          "state": {
            "_model_module": "@jupyter-widgets/base",
            "_model_module_version": "1.2.0",
            "_model_name": "LayoutModel",
            "_view_count": null,
            "_view_module": "@jupyter-widgets/base",
            "_view_module_version": "1.2.0",
            "_view_name": "LayoutView",
            "align_content": null,
            "align_items": null,
            "align_self": null,
            "border": null,
            "bottom": null,
            "display": null,
            "flex": null,
            "flex_flow": null,
            "grid_area": null,
            "grid_auto_columns": null,
            "grid_auto_flow": null,
            "grid_auto_rows": null,
            "grid_column": null,
            "grid_gap": null,
            "grid_row": null,
            "grid_template_areas": null,
            "grid_template_columns": null,
            "grid_template_rows": null,
            "height": null,
            "justify_content": null,
            "justify_items": null,
            "left": null,
            "margin": null,
            "max_height": null,
            "max_width": null,
            "min_height": null,
            "min_width": null,
            "object_fit": null,
            "object_position": null,
            "order": null,
            "overflow": null,
            "overflow_x": null,
            "overflow_y": null,
            "padding": null,
            "right": null,
            "top": null,
            "visibility": null,
            "width": null
          }
        },
        "5c46718ea1e442099aac478ed42224ff": {
          "model_module": "@jupyter-widgets/base",
          "model_name": "LayoutModel",
          "model_module_version": "1.2.0",
          "state": {
            "_model_module": "@jupyter-widgets/base",
            "_model_module_version": "1.2.0",
            "_model_name": "LayoutModel",
            "_view_count": null,
            "_view_module": "@jupyter-widgets/base",
            "_view_module_version": "1.2.0",
            "_view_name": "LayoutView",
            "align_content": null,
            "align_items": null,
            "align_self": null,
            "border": null,
            "bottom": null,
            "display": null,
            "flex": null,
            "flex_flow": null,
            "grid_area": null,
            "grid_auto_columns": null,
            "grid_auto_flow": null,
            "grid_auto_rows": null,
            "grid_column": null,
            "grid_gap": null,
            "grid_row": null,
            "grid_template_areas": null,
            "grid_template_columns": null,
            "grid_template_rows": null,
            "height": null,
            "justify_content": null,
            "justify_items": null,
            "left": null,
            "margin": null,
            "max_height": null,
            "max_width": null,
            "min_height": null,
            "min_width": null,
            "object_fit": null,
            "object_position": null,
            "order": null,
            "overflow": null,
            "overflow_x": null,
            "overflow_y": null,
            "padding": null,
            "right": null,
            "top": null,
            "visibility": null,
            "width": null
          }
        },
        "4b35ead6823c435bac4abbb80d63be5e": {
          "model_module": "@jupyter-widgets/controls",
          "model_name": "ButtonStyleModel",
          "model_module_version": "1.5.0",
          "state": {
            "_model_module": "@jupyter-widgets/controls",
            "_model_module_version": "1.5.0",
            "_model_name": "ButtonStyleModel",
            "_view_count": null,
            "_view_module": "@jupyter-widgets/base",
            "_view_module_version": "1.2.0",
            "_view_name": "StyleView",
            "button_color": null,
            "font_weight": ""
          }
        },
        "ed40bdcd61e84278acf3dfd374cc32c7": {
          "model_module": "@jupyter-widgets/base",
          "model_name": "LayoutModel",
          "model_module_version": "1.2.0",
          "state": {
            "_model_module": "@jupyter-widgets/base",
            "_model_module_version": "1.2.0",
            "_model_name": "LayoutModel",
            "_view_count": null,
            "_view_module": "@jupyter-widgets/base",
            "_view_module_version": "1.2.0",
            "_view_name": "LayoutView",
            "align_content": null,
            "align_items": null,
            "align_self": null,
            "border": null,
            "bottom": null,
            "display": null,
            "flex": null,
            "flex_flow": null,
            "grid_area": null,
            "grid_auto_columns": null,
            "grid_auto_flow": null,
            "grid_auto_rows": null,
            "grid_column": null,
            "grid_gap": null,
            "grid_row": null,
            "grid_template_areas": null,
            "grid_template_columns": null,
            "grid_template_rows": null,
            "height": null,
            "justify_content": null,
            "justify_items": null,
            "left": null,
            "margin": null,
            "max_height": null,
            "max_width": null,
            "min_height": null,
            "min_width": null,
            "object_fit": null,
            "object_position": null,
            "order": null,
            "overflow": null,
            "overflow_x": null,
            "overflow_y": null,
            "padding": null,
            "right": null,
            "top": null,
            "visibility": null,
            "width": null
          }
        },
        "c1af092fe2c0489a88c0c378d8818e9d": {
          "model_module": "@jupyter-widgets/controls",
          "model_name": "ButtonStyleModel",
          "model_module_version": "1.5.0",
          "state": {
            "_model_module": "@jupyter-widgets/controls",
            "_model_module_version": "1.5.0",
            "_model_name": "ButtonStyleModel",
            "_view_count": null,
            "_view_module": "@jupyter-widgets/base",
            "_view_module_version": "1.2.0",
            "_view_name": "StyleView",
            "button_color": null,
            "font_weight": ""
          }
        },
        "818ceaff295b48418ba06e74ed940ada": {
          "model_module": "@jupyter-widgets/base",
          "model_name": "LayoutModel",
          "model_module_version": "1.2.0",
          "state": {
            "_model_module": "@jupyter-widgets/base",
            "_model_module_version": "1.2.0",
            "_model_name": "LayoutModel",
            "_view_count": null,
            "_view_module": "@jupyter-widgets/base",
            "_view_module_version": "1.2.0",
            "_view_name": "LayoutView",
            "align_content": null,
            "align_items": null,
            "align_self": null,
            "border": null,
            "bottom": null,
            "display": null,
            "flex": null,
            "flex_flow": null,
            "grid_area": null,
            "grid_auto_columns": null,
            "grid_auto_flow": null,
            "grid_auto_rows": null,
            "grid_column": null,
            "grid_gap": null,
            "grid_row": null,
            "grid_template_areas": null,
            "grid_template_columns": null,
            "grid_template_rows": null,
            "height": null,
            "justify_content": null,
            "justify_items": null,
            "left": null,
            "margin": null,
            "max_height": null,
            "max_width": null,
            "min_height": null,
            "min_width": null,
            "object_fit": null,
            "object_position": null,
            "order": null,
            "overflow": null,
            "overflow_x": null,
            "overflow_y": null,
            "padding": null,
            "right": null,
            "top": null,
            "visibility": null,
            "width": null
          }
        },
        "9776577fc5434228895acc3b9f774a7a": {
          "model_module": "@jupyter-widgets/controls",
          "model_name": "ButtonStyleModel",
          "model_module_version": "1.5.0",
          "state": {
            "_model_module": "@jupyter-widgets/controls",
            "_model_module_version": "1.5.0",
            "_model_name": "ButtonStyleModel",
            "_view_count": null,
            "_view_module": "@jupyter-widgets/base",
            "_view_module_version": "1.2.0",
            "_view_name": "StyleView",
            "button_color": null,
            "font_weight": ""
          }
        }
      }
    }
  },
  "cells": [
    {
      "cell_type": "markdown",
      "metadata": {
        "id": "view-in-github",
        "colab_type": "text"
      },
      "source": [
        "<a href=\"https://colab.research.google.com/github/sergioalmada/Projeto_Alura/blob/main/Jogo_Quiz_Gensing_v1.ipynb\" target=\"_parent\"><img src=\"https://colab.research.google.com/assets/colab-badge.svg\" alt=\"Open In Colab\"/></a>"
      ]
    },
    {
      "cell_type": "markdown",
      "source": [
        "Bem vindo ao meu projeto! Me chamo Sérgio Almada e aqui está algo divertido feito com a Gemini do Google. Minha intenção aqui era usar o conteúdo gerado pelo Gemini para criar algo espontaneo, que não precisasse de muita busca para utilizar. Durante meu projeto irei sitar momentos que poderiam ser melhores implementados, mas como uma competção demanda velocidade não foram implementados."
      ],
      "metadata": {
        "id": "T24bRujza64w"
      }
    },
    {
      "cell_type": "markdown",
      "source": [
        "Aqui começamos instalando o Google generative ai e fazendo sua conexão com a chave da API"
      ],
      "metadata": {
        "id": "nElDTtOsbp7F"
      }
    },
    {
      "cell_type": "code",
      "source": [
        "# Instalando o SDK do google IA Gemini\n",
        "!pip install -q -U google-generativeai  # Instala a biblioteca google-generativeai, que permite usar o Gemini\n",
        "\n",
        "import google.generativeai as genai  # Importa a biblioteca para usar o Gemini\n",
        "\n",
        "# Obtém a chave de API do Gemini a partir dos dados do usuário no Google Colab\n",
        "from google.colab import userdata\n",
        "api_key = userdata.get('secret_key') # Acessa a chave de API armazenada nos dados do usuário\n",
        "GOOGLE_API_KEY = api_key  # Define a variável GOOGLE_API_KEY com a chave de API\n",
        "\n",
        "# Configura o Gemini com a chave de API\n",
        "genai.configure(api_key=GOOGLE_API_KEY)"
      ],
      "metadata": {
        "id": "KfbkXJfAtuhb"
      },
      "execution_count": 34,
      "outputs": []
    },
    {
      "cell_type": "markdown",
      "source": [
        "Aqui em baixo é o ponto crucial, para funcionar é necessário diminuir a temperatura até o 0, pois não queremos que ele alucine nos enunciados que vamos usar abaixo. Com mais tempo, poderia criar um prompt melhor. Principalmente usando few-shot + chain-of-thought. A forma que utilizei eles foi apenas para demonstrar que um bom prompt pode ser extremamente poderoso!"
      ],
      "metadata": {
        "id": "3csXlZxkbzfc"
      }
    },
    {
      "cell_type": "code",
      "source": [
        "# Define a configuração de geração com temperatura 0 (determinista)\n",
        "generation_config = {'temperature': 0}\n",
        "\n",
        "# Cria uma instância do modelo Gemini Pro com a configuração definida\n",
        "model = genai.GenerativeModel(model_name='gemini-1.0-pro', generation_config=generation_config)"
      ],
      "metadata": {
        "id": "xlwMuOXCVkcU"
      },
      "execution_count": 35,
      "outputs": []
    },
    {
      "cell_type": "markdown",
      "source": [
        "Aqui é onde coloquei a lista com o prompt para o Gemini, treinei ele com o que tinha e inclusive fiz um teste final utilizando informações falsas (as que estão no texto abaixo) para ver o potencial dele de não usar o que eu disse e sim apenas o formato sem contexto. Funcionou perfeitamente e tem aplicações bem interessantes no dia a dia, talvez usar eles para interpretar em tempo real e retirar o contexto para criar algo genérico de fácil replicação."
      ],
      "metadata": {
        "id": "Q2A5NGWucWSj"
      }
    },
    {
      "cell_type": "code",
      "source": [
        "# Aqui coloco uma variavel prompt para armazenar o que o Gemini precisa receber em seu prompt para gerar a lista\n",
        "prompt = \"\"\"Eu estou criando um quiz sobre os personagens de Genshin Impact.Consulte https://genshin-impact.fandom.com/wiki/Lore para ser mais acurado\n",
        "Preciso que você gere uma lista de personagens com suas respectivas dicas.\n",
        "Cuidado para não confundir espada com espadão(claymore) e se atente aos detalhes, quando se referir a familias ou irmãos. Tome cuidado para não errar as informações.\n",
        "O formato da saída deve ser um array de objetos JSON, onde cada objeto tem as seguintes chaves:\n",
        "\n",
        "* `\"palavra\"`: O nome do personagem.\n",
        "* `\"dica\"`: Uma dica dificil relacionada ao personagem.\n",
        "* `\"Dica extra 1\"`: Uma dica boa relacionada ao personagem.\n",
        "* `\"Dica extra 2\"`: Sua comida favorita\n",
        "\n",
        "O formato deve ser igual ao Exemplo, mas escolha aleatóriamente os 5 personagens:\n",
        "[\n",
        "  {\n",
        "    \"palavra\": \"Diluc\",\n",
        "    \"dica\": \"Usuário de Claymore Geo de Mondstadt, que sonha em se tornar uma Cavaleira de Favonius.\",\n",
        "    \"Dica extra 1\": \"Tem uma queda por Jean\",\n",
        "    \"Dica extra 2\": \"Adora Torta de maçã\"\n",
        "  },\n",
        "  {\n",
        "    \"palavra\": \"Keqing\",\n",
        "    \"dica\": \"Usuária de Espada Electro de Liyue, que trabalha diligentemente para o Qixing.\",\n",
        "    \"Dica extra 1\": \"Tem uma harpa chamada Windblume Ode\",\n",
        "    \"Dica extra 2\": \"Ama Peixe assado\"\n",
        "  }\n",
        "]Gere uma lista com 5 personagens diferentes.\"\"\"\n",
        "#Essa função envia o prompt para o modelo Gemini e aguarda a geração da resposta.\n",
        "response = model.generate_content(prompt)\n",
        "#Aqui conferimos se está tudo certo com a lista\n",
        "print(response.text)"
      ],
      "metadata": {
        "colab": {
          "base_uri": "https://localhost:8080/",
          "height": 602
        },
        "id": "2xlUGk7TBdYx",
        "outputId": "83c23534-358f-4068-b88d-95d2ba51b639"
      },
      "execution_count": 36,
      "outputs": [
        {
          "output_type": "stream",
          "name": "stdout",
          "text": [
            "[\n",
            "  {\n",
            "    \"palavra\": \"Hu Tao\",\n",
            "    \"dica\": \"Usuária de Lança Pyro de Liyue, que é a 77ª Diretora da Funerária Wangsheng.\",\n",
            "    \"Dica extra 1\": \"Tem uma obsessão por fantasmas\",\n",
            "    \"Dica extra 2\": \"Adora Tofu de amêndoa\"\n",
            "  },\n",
            "  {\n",
            "    \"palavra\": \"Zhongli\",\n",
            "    \"dica\": \"Usuário de Lança Geo de Liyue, que é o Deus dos Contratos e o antigo Arconte Geo.\",\n",
            "    \"Dica extra 1\": \"Tem uma forma humana chamada Morax\",\n",
            "    \"Dica extra 2\": \"Ama Chá de flores\"\n",
            "  },\n",
            "  {\n",
            "    \"palavra\": \"Eula\",\n",
            "    \"dica\": \"Usuária de Espadão Cryo de Mondstadt, que é a Capitã da Companhia de Reconhecimento dos Cavaleiros de Favonius.\",\n",
            "    \"Dica extra 1\": \"É descendente do Clã Lawrence\",\n",
            "    \"Dica extra 2\": \"Adora Pizza de cogumelos\"\n",
            "  },\n",
            "  {\n",
            "    \"palavra\": \"Raiden Shogun\",\n",
            "    \"dica\": \"Usuária de Espada Electro de Inazuma, que é a governante da nação e a Deusa da Eternidade.\",\n",
            "    \"Dica extra 1\": \"Seu nome verdadeiro é Ei\",\n",
            "    \"Dica extra 2\": \"Ama Dango\"\n",
            "  },\n",
            "  {\n",
            "    \"palavra\": \"Albedo\",\n",
            "    \"dica\": \"Usuário de Espada Geo de Mondstadt, que é o Chefe Alquimista dos Cavaleiros de Favonius.\",\n",
            "    \"Dica extra 1\": \"É um homúnculo criado por Rhinedottir\",\n",
            "    \"Dica extra 2\": \"Adora Panquecas\"\n",
            "  }\n",
            "]\n"
          ]
        }
      ]
    },
    {
      "cell_type": "markdown",
      "source": [],
      "metadata": {
        "id": "SykSj8Nic4Ih"
      }
    },
    {
      "cell_type": "code",
      "source": [
        "import json # Biblioteca para trabalhar com dados JSON\n",
        "#Aqui convertemos a lista em formato json para algo que o programa consegue entender\n",
        "data = json.loads(response.text)\n",
        "print(data)  # Imprime os dados para verificar se o carregamento foi bem-sucedido\n"
      ],
      "metadata": {
        "colab": {
          "base_uri": "https://localhost:8080/"
        },
        "id": "qAPLYN-GG8vT",
        "outputId": "0e90b65d-c6c0-4664-9006-5adab15e31c8"
      },
      "execution_count": 37,
      "outputs": [
        {
          "output_type": "stream",
          "name": "stdout",
          "text": [
            "[{'palavra': 'Hu Tao', 'dica': 'Usuária de Lança Pyro de Liyue, que é a 77ª Diretora da Funerária Wangsheng.', 'Dica extra 1': 'Tem uma obsessão por fantasmas', 'Dica extra 2': 'Adora Tofu de amêndoa'}, {'palavra': 'Zhongli', 'dica': 'Usuário de Lança Geo de Liyue, que é o Deus dos Contratos e o antigo Arconte Geo.', 'Dica extra 1': 'Tem uma forma humana chamada Morax', 'Dica extra 2': 'Ama Chá de flores'}, {'palavra': 'Eula', 'dica': 'Usuária de Espadão Cryo de Mondstadt, que é a Capitã da Companhia de Reconhecimento dos Cavaleiros de Favonius.', 'Dica extra 1': 'É descendente do Clã Lawrence', 'Dica extra 2': 'Adora Pizza de cogumelos'}, {'palavra': 'Raiden Shogun', 'dica': 'Usuária de Espada Electro de Inazuma, que é a governante da nação e a Deusa da Eternidade.', 'Dica extra 1': 'Seu nome verdadeiro é Ei', 'Dica extra 2': 'Ama Dango'}, {'palavra': 'Albedo', 'dica': 'Usuário de Espada Geo de Mondstadt, que é o Chefe Alquimista dos Cavaleiros de Favonius.', 'Dica extra 1': 'É um homúnculo criado por Rhinedottir', 'Dica extra 2': 'Adora Panquecas'}]\n"
          ]
        }
      ]
    },
    {
      "cell_type": "markdown",
      "source": [
        "Aqui começa o jogo.\n",
        "Ele é um Quiz de Genshin Impact.\n",
        "\n",
        "O que temos nele:\n",
        "*   Escolha de dificuldade\n",
        "*   Pontuação\n",
        "*   Escrever as respostas no quiz\n",
        "*   Ao final mostra sua pontuação\n",
        "\n",
        "\n",
        "\n"
      ],
      "metadata": {
        "id": "A_XKEkgRc6G5"
      }
    },
    {
      "cell_type": "code",
      "source": [
        "import random\n",
        "import ipywidgets as widgets\n",
        "from IPython.display import display\n",
        "\n",
        "# Variáveis globais para controlar o estado do jogo\n",
        "pontuacao = 0  # Pontuação inicial do jogador\n",
        "jogando = True  # Indica se o jogo está em andamento (True) ou não (False)\n",
        "perguntas_feitas = []  # Lista para armazenar as perguntas que já foram feitas\n",
        "\n",
        "# Variáveis globais para os widgets (inicialmente None)\n",
        "chute_input = None\n",
        "verificar_button = None\n",
        "output = None\n",
        "\n",
        "# Função para lidar com a escolha da dificuldade\n",
        "def on_button_clicked(button):\n",
        "  global dificuldade  # Acessa a variável global 'dificuldade'\n",
        "  dificuldade = button.description.lower()  # Define a dificuldade com base no texto do botão clicado\n",
        "  print(f\"Você escolheu a dificuldade: {dificuldade}\")  # Informa ao jogador a dificuldade escolhida\n",
        "\n",
        "  # Fecha os botões de dificuldade após a escolha para limpar a interface\n",
        "  button_facil.close()\n",
        "  button_medio.close()\n",
        "  button_dificil.close()\n",
        "\n",
        "  # Inicia a primeira rodada do jogo\n",
        "  nova_rodada()\n",
        "\n",
        "# Função para verificar o chute do jogador\n",
        "def verificar_chute(button):\n",
        "  global pontuacao, jogando, chute_input, verificar_button, output # Acessa as variáveis globais\n",
        "  chute = chute_input.value.strip()  # Obtém o chute do jogador e remove espaços em branco extras\n",
        "\n",
        "  # Define a pontuação da rodada de acordo com a dificuldade escolhida\n",
        "  if dificuldade == 'fácil':\n",
        "    pontos_da_rodada = 1\n",
        "  elif dificuldade == 'médio':\n",
        "    pontos_da_rodada = 2\n",
        "  elif dificuldade == 'difícil':\n",
        "    pontos_da_rodada = 3\n",
        "  else:\n",
        "    pontos_da_rodada = 1  # Pontuação padrão caso a dificuldade seja inválida\n",
        "\n",
        "  # Verifica se o chute está correto e atualiza a pontuação\n",
        "  with output:\n",
        "    if chute.lower() == palavra_secreta.lower():\n",
        "      pontuacao += pontos_da_rodada\n",
        "      print(f'Está certo! Você ganhou {pontos_da_rodada} pontos. Pontuação total: {pontuacao}')\n",
        "    else:\n",
        "      print(f'Está errado :c O personagem era: {palavra_secreta}. Pontuação total: {pontuacao}')\n",
        "\n",
        "# Fecha os widgets da rodada atual\n",
        "  chute_input.close()\n",
        "  verificar_button.close()\n",
        "\n",
        "  # Cria os botões \"Continuar Jogando\" e \"Parar\"\n",
        "  button_continuar = widgets.Button(description=\"Continuar Jogando\")\n",
        "  button_parar = widgets.Button(description=\"Parar\")\n",
        "\n",
        "  # Define a função para lidar com o clique no botão \"Continuar Jogando\"\n",
        "  def on_continuar(button):\n",
        "    button_continuar.close()  # Fecha o botão \"Continuar Jogando\"\n",
        "    button_parar.close()  # Fecha o botão \"Parar\"\n",
        "    nova_rodada()  # Inicia uma nova rodada do jogo\n",
        "\n",
        "  # Define a função para lidar com o clique no botão \"Parar\"\n",
        "  def on_parar(button):\n",
        "    button_continuar.close()  # Fecha o botão \"Continuar Jogando\"\n",
        "    button_parar.close()  # Fecha o botão \"Parar\"\n",
        "    print(f\"Obrigado por jogar! Sua pontuação final é: {pontuacao}\")  # Exibe a mensagem de fim de jogo\n",
        "    global jogando  # Acessa a variável global 'jogando'\n",
        "    jogando = False  # Define 'jogando' como False para encerrar o loop do jogo\n",
        "\n",
        "  # Associa as funções aos eventos de clique dos botões\n",
        "  button_continuar.on_click(on_continuar)\n",
        "  button_parar.on_click(on_parar)\n",
        "\n",
        "  # Exibe os botões \"Continuar Jogando\" e \"Parar\" na tela\n",
        "  display(widgets.HBox([button_continuar, button_parar]))\n",
        "\n",
        "# Cria os botões de dificuldade\n",
        "button_facil = widgets.Button(description=\"Fácil\")\n",
        "button_medio = widgets.Button(description=\"Médio\")\n",
        "button_dificil = widgets.Button(description=\"Difícil\")\n",
        "\n",
        "# Associa a função on_button_clicked aos eventos de clique dos botões de dificuldade\n",
        "button_facil.on_click(on_button_clicked)\n",
        "button_medio.on_click(on_button_clicked)\n",
        "button_dificil.on_click(on_button_clicked)\n",
        "\n",
        "# Exibe os botões de dificuldade na tela\n",
        "print(\"Escolha a dificuldade:\")\n",
        "display(widgets.HBox([button_facil, button_medio, button_dificil]))\n",
        "\n",
        "# Função para iniciar uma nova rodada do jogo\n",
        "def nova_rodada():\n",
        "  global valor_secreto, palavra_secreta, dificuldade, chute_input, verificar_button, output, perguntas_feitas, jogando\n",
        "  if not jogando:\n",
        "    return\n",
        "\n",
        "  # Verifica se ainda há personagens disponíveis\n",
        "  if len(perguntas_feitas) == len(data):\n",
        "    print(f\"Parabéns! Você completou o quiz! Sua pontuação final é: {pontuacao}\")\n",
        "    jogando = False\n",
        "    return\n",
        "\n",
        "  # Escolhe um personagem aleatório da lista de dados, garantindo que não seja repetido\n",
        "  while True:\n",
        "    valor_secreto = random.choice(data)\n",
        "    # Verifica se a palavra já foi usada ANTES de adicioná-la à lista perguntas_feitas\n",
        "    if valor_secreto['palavra'] not in perguntas_feitas:\n",
        "      perguntas_feitas.append(valor_secreto['palavra'])\n",
        "      break\n",
        "\n",
        "  palavra_secreta = valor_secreto['palavra']\n",
        "\n",
        "  # Define as dicas com base na dificuldade escolhida\n",
        "  if dificuldade == 'fácil':\n",
        "    dicas = [valor_secreto['dica'], valor_secreto['Dica extra 1'], valor_secreto['Dica extra 2']]\n",
        "  elif dificuldade == 'médio':\n",
        "    dicas = [valor_secreto['dica'], valor_secreto['Dica extra 1']]\n",
        "  elif dificuldade == 'difícil':\n",
        "    dicas = [valor_secreto['dica']]\n",
        "  else:\n",
        "    print(\"Dificuldade inválida. Usando dificuldade média.\")\n",
        "    dicas = [valor_secreto['dica'], 'Dica extra 1']\n",
        "\n",
        "  # Exibe a quantidade de letras da palavra secreta e as dicas\n",
        "  print(f'O nome do personagem tem {len(palavra_secreta)} letras')\n",
        "  for i, dica in enumerate(dicas):\n",
        "    print(f'Dica {i+1}: {dica}')\n",
        "\n",
        "  # Recria os widgets para a nova rodada e atualiza as referências globais\n",
        "  chute_input = widgets.Text(description='Seu chute:')\n",
        "  verificar_button = widgets.Button(description=\"Verificar\")\n",
        "  verificar_button.on_click(verificar_chute) # Associa a função verificar_chute ao evento de clique do botão\n",
        "  output = widgets.Output()\n",
        "\n",
        "   # Limpa o output\n",
        "  output.clear_output()\n",
        "\n",
        "  # Exibe os widgets na tela\n",
        "  display(chute_input)\n",
        "  display(verificar_button)\n",
        "  display(output)"
      ],
      "metadata": {
        "colab": {
          "base_uri": "https://localhost:8080/",
          "height": 67,
          "referenced_widgets": [
            "26f63ae6241449a29798bab9c36b1f82",
            "4031b5e7a1b74fec9214aadc80ed6d84",
            "1eac50c93b85419092b10351d71e6fde",
            "c58baec14bba4e06804ac97dd0fc7200",
            "5543be1fb57049bdaaaa37e8bb7d357f",
            "5c46718ea1e442099aac478ed42224ff",
            "4b35ead6823c435bac4abbb80d63be5e",
            "ed40bdcd61e84278acf3dfd374cc32c7",
            "c1af092fe2c0489a88c0c378d8818e9d",
            "818ceaff295b48418ba06e74ed940ada",
            "9776577fc5434228895acc3b9f774a7a"
          ]
        },
        "id": "8VkzvTnZ8dMx",
        "outputId": "80677202-5d4f-4069-e9a6-99fab24f3242"
      },
      "execution_count": 40,
      "outputs": [
        {
          "output_type": "stream",
          "name": "stdout",
          "text": [
            "Escolha a dificuldade:\n"
          ]
        },
        {
          "output_type": "display_data",
          "data": {
            "text/plain": [
              "HBox(children=(Button(description='Fácil', style=ButtonStyle()), Button(description='Médio', style=ButtonStyle…"
            ],
            "application/vnd.jupyter.widget-view+json": {
              "version_major": 2,
              "version_minor": 0,
              "model_id": "26f63ae6241449a29798bab9c36b1f82"
            }
          },
          "metadata": {}
        }
      ]
    },
    {
      "cell_type": "markdown",
      "source": [
        "Melhorias:\n",
        "O jogo teria um sistema de dicas baseado também em imagens, talvez as gerar ou usar algum banco da internet. Com isso algumas modificações seriam necessárias, como por exemplo a lista inicial é totalmente aleatória. Mas com as imagens sendo fixas, uma lista contendo os ** nomes** deveria ser introduzida para o Gemini gerar as informações de dicas.\n",
        "\n",
        "Poderiamos então colocar um blur em cima deles com uma interrogação e revelar ao acertar.\n",
        "\n",
        "a Seguir tem um passo a passo para implementar esta lógica:\n",
        "1. Armazenar as imagens dos personagens em um local acessível (ex: Google Drive).\n",
        "2. Carregar a imagem correspondente ao personagem da pergunta.\n",
        "3. Aplicar blur usando PIL.\n",
        "4. Exibir a imagem com matplotlib ou seaborn.\n",
        "5. Criar um campo de entrada para o chute do usuário (ipywidgets).\n",
        "6. Ao avaliar a resposta, exibir a imagem original e uma mensagem (feliz ou triste)."
      ],
      "metadata": {
        "id": "TPJY-zQBYtdY"
      }
    },
    {
      "cell_type": "code",
      "source": [
        "# variável chamada valor secreto que armazena uma tecnologia aleatoria da lista\n",
        "valor_secreto = random.choice(data)\n",
        "# variavel para armazenar apenas a palavra\n",
        "palavra_secreta = valor_secreto['palavra']\n",
        "# variavel para armazenar apenas a dica\n",
        "dica = valor_secreto['dica']\n",
        "# mostrou na tela quantas letras a palavra secreta possui e a dica\n",
        "# o print(f) em print(f'{len(palavra_secreta)} {dica}') irá juntar o valor da variável com o texto a uma string.\n",
        "# print(f'A palavra secreta tem {len(palavra_secreta)} letras -> {dica}')\n",
        "print('Bem vinda ao quiz Genshin!')\n",
        "print(f'O nome do personagem tem {len(palavra_secreta)} letras')\n",
        "print(f'A dica é -> {dica}')\n",
        "chute = input(f'Quem você acha que é? ').strip() #Remove espaços em branco extras no inicio e no final.\n",
        "\n",
        "# Comparação sem diferenciar maiúsculas e minúsculas\n",
        "if chute.lower() == palavra_secreta.lower():\n",
        "    print('Está certo!')\n",
        "else:\n",
        "    print(f'Está errado :c O personagem era: {palavra_secreta}')\n",
        "\n"
      ],
      "metadata": {
        "id": "tTLvTnpZitgH"
      },
      "execution_count": null,
      "outputs": []
    },
    {
      "cell_type": "markdown",
      "source": [
        "Esse carinha aqui é o começo disso tudo, obrigado carinha!"
      ],
      "metadata": {
        "id": "D_KmF3F8ZylS"
      }
    }
  ]
}