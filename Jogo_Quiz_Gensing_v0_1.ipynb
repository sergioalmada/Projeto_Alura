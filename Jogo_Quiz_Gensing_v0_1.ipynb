{
  "nbformat": 4,
  "nbformat_minor": 0,
  "metadata": {
    "colab": {
      "provenance": [],
      "authorship_tag": "ABX9TyNOIFdWA47qJPavlZlHIONK",
      "include_colab_link": true
    },
    "kernelspec": {
      "name": "python3",
      "display_name": "Python 3"
    },
    "language_info": {
      "name": "python"
    }
  },
  "cells": [
    {
      "cell_type": "markdown",
      "metadata": {
        "id": "view-in-github",
        "colab_type": "text"
      },
      "source": [
        "<a href=\"https://colab.research.google.com/github/sergioalmada/Projeto_Alura/blob/main/Jogo_Quiz_Gensing_v0_1.ipynb\" target=\"_parent\"><img src=\"https://colab.research.google.com/assets/colab-badge.svg\" alt=\"Open In Colab\"/></a>"
      ]
    },
    {
      "cell_type": "code",
      "execution_count": null,
      "metadata": {
        "colab": {
          "base_uri": "https://localhost:8080/"
        },
        "id": "I91TrsxFhu8_",
        "outputId": "9aed7327-7ec8-4230-8606-556910f7a273"
      },
      "outputs": [
        {
          "output_type": "stream",
          "name": "stdout",
          "text": [
            "Drive already mounted at /content/gdrive; to attempt to forcibly remount, call drive.mount(\"/content/gdrive\", force_remount=True).\n",
            "<class 'list'>\n",
            "46\n"
          ]
        },
        {
          "output_type": "execute_result",
          "data": {
            "text/plain": [
              "{'palavra': 'Shenhe', 'dica': 'Discípula do Adeptus Cloud Retainer.'}"
            ]
          },
          "metadata": {},
          "execution_count": 22
        }
      ],
      "source": [
        "# 1. Importando bibliotecas necessárias\n",
        "import requests  # Biblioteca para fazer requisições HTTP (não usada neste caso)\n",
        "import random    # Biblioteca para gerar números aleatórios\n",
        "from google.colab import drive  # Módulo para interagir com o Google Drive no Colab\n",
        "import json     # Biblioteca para trabalhar com dados JSON\n",
        "\n",
        "# 2. Montando o Google Drive\n",
        "drive.mount('/content/gdrive')  # Monta seu Drive no diretório \"/content/gdrive\" no Colab\n",
        "\n",
        "# 3. Definindo o caminho para o arquivo JSON\n",
        "caminho_arquivo = '/content/gdrive/MyDrive/Colab Notebooks/genshin.json'\n",
        "# Armazena o caminho completo para o arquivo \"genshin.json\" no Drive\n",
        "\n",
        "# 4. Abrindo o arquivo e carregando os dados JSON\n",
        "with open(caminho_arquivo, 'r') as f:\n",
        "    data = json.load(f)\n",
        "# - `with open(...) as f:`: Abre o arquivo para leitura (\"r\") e o associa à variável \"f\"\n",
        "# - `json.load(f)`: Lê o conteúdo JSON do arquivo \"f\" e o converte em um objeto Python (lista ou dicionário)\n",
        "# - `data = ...`: Armazena o objeto Python resultante na variável \"data\"\n",
        "\n",
        "# uma variável chamada url que armazena o endereço com as informações que estou buscando\n",
        "#url = 'file://content/genshin.json'\n",
        "# faço a requisição e armazeno em uma variável chamada resposta\n",
        "#resposta = requests.get(url)\n",
        "# transforma a resposta em um JSON (um modo de interpretar os dados recebidos)\n",
        "#data = resposta.json()\n",
        "#demonstração do tipo do arquivo\n",
        "print(type(data))\n",
        "#demonstração de como mostrar o tamanho da lista\n",
        "print(len(data))\n",
        "#demonstração de como acessar uma posição especifica dentro de uma lista\n",
        "#toda lista começa em python com indice 0 e pode usar elementos em negativo -1. -2\n",
        "data[42]\n"
      ]
    },
    {
      "cell_type": "code",
      "source": [
        "# Instalando o SDK do google IA Gemini\n",
        "!pip install -q -U google-generativeai\n",
        "import google.generativeai as genai\n",
        "# aqui tem uma mascarada na chave de acesso\n",
        "from google.colab import userdata\n",
        "api_key = userdata.get('secret_key')\n",
        "\n",
        "GOOGLE_API_KEY='api_key'\n",
        "genai.configure(api_key=GOOGLE_API_KEY)"
      ],
      "metadata": {
        "id": "KfbkXJfAtuhb"
      },
      "execution_count": 1,
      "outputs": []
    },
    {
      "cell_type": "code",
      "source": [
        "# variável chamada valor secreto que armazena uma tecnologia aleatoria da lista\n",
        "valor_secreto = random.choice(data)\n",
        "# variavel para armazenar apenas a palavra\n",
        "palavra_secreta = valor_secreto['palavra']\n",
        "# variavel para armazenar apenas a dica\n",
        "dica = valor_secreto['dica']\n",
        "# mostrou na tela quantas letras a palavra secreta possui e a dica\n",
        "# o print(f) em print(f'{len(palavra_secreta)} {dica}') irá juntar o valor da variável com o texto a uma string.\n",
        "# print(f'A palavra secreta tem {len(palavra_secreta)} letras -> {dica}')\n",
        "print('Bem vinda ao quiz Genshin!')\n",
        "print(f'O nome do personagem tem {len(palavra_secreta)} letras')\n",
        "print(f'A dica é -> {dica}')\n",
        "chute = input(f'Quem você acha que é? ').strip() #Remove espaços em branco extras no inicio e no final.\n",
        "\n",
        "# Comparação sem diferenciar maiúsculas e minúsculas\n",
        "if chute.lower() == palavra_secreta.lower():\n",
        "    print('Está certo!')\n",
        "else:\n",
        "    print(f'Está errado :c O personagem era: {palavra_secreta}')\n",
        "\n"
      ],
      "metadata": {
        "colab": {
          "base_uri": "https://localhost:8080/"
        },
        "id": "tTLvTnpZitgH",
        "outputId": "eb3a400f-0b6b-4f31-8879-e08c6d7d7b45"
      },
      "execution_count": null,
      "outputs": [
        {
          "output_type": "stream",
          "name": "stdout",
          "text": [
            "Bem vinda ao quiz Genshin!\n",
            "O nome do personagem tem 8 letras\n",
            "A dica é -> Exorcista de Liyue com um corpo naturalmente yang.\n",
            "Quem você acha que é? chongyun\n",
            "Está certo!\n"
          ]
        }
      ]
    },
    {
      "cell_type": "code",
      "source": [
        "# erros que sabemos:\n",
        "# Melhorias:\n",
        "# descobrir como colocar audio e imagem\n",
        "# Tela de parabens\n",
        "# ter junto a lista, imagens dos rostos dos personagens nublados com uma interrogação\n",
        "# mostrar a imagem do rosto ao acertar junto com um audio\n",
        "## Dicas para incrementar o quiz Genshin Impact\n",
        "\"\"\"\n",
        "**Ideia:** Exibir imagens com blur dos personagens e mensagens personalizadas.\n",
        "\n",
        "**Bibliotecas:**\n",
        "\n",
        "*   `PIL` (Pillow): Manipulação de imagens.\n",
        "*   `matplotlib` ou `seaborn`: Exibição de imagens.\n",
        "*   `ipywidgets`: Elementos interativos na interface do Colab.\n",
        "\n",
        "**Lógica:**\n",
        "\n",
        "1. Armazenar as imagens dos personagens em um local acessível (ex: Google Drive).\n",
        "2. Carregar a imagem correspondente ao personagem da pergunta.\n",
        "3. Aplicar blur usando PIL.\n",
        "4. Exibir a imagem com matplotlib ou seaborn.\n",
        "5. Criar um campo de entrada para o chute do usuário (ipywidgets).\n",
        "6. Ao avaliar a resposta, exibir a imagem original e uma mensagem (feliz ou triste).\n",
        "\n",
        "**Recursos:**\n",
        "\n",
        "*   Documentação do PIL: https://pillow.readthedocs.io/\n",
        "*   Tutorial de matplotlib: https://matplotlib.org/tutorials/introductory/pyplot.html\n",
        "*   Documentação do ipywidgets: https://ipywidgets.readthedocs.io/\n",
        "\n",
        "**Considerações:**\n",
        "\n",
        "*   Manipulação de imagens no Colab pode ser desafiadora.\n",
        "*   Criar uma interface gráfica completa no Colab é complexo.\n",
        "\n",
        "**Recomendação:**\n",
        "\n",
        "Explorar outras ferramentas como Jupyter Notebook ou frameworks web (Flask, Django) para uma experiência mais visual e interativa.\n",
        "\"\"\"\n"
      ],
      "metadata": {
        "id": "fm3bjsykqQYI"
      },
      "execution_count": null,
      "outputs": []
    }
  ]
}